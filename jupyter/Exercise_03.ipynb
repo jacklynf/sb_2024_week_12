{
 "cells": [
  {
   "cell_type": "markdown",
   "id": "fa4b64d8-91eb-4298-a43d-edb78d26c76a",
   "metadata": {},
   "source": [
    "# Exercise 03: Dial-up Modems\n",
    "\n",
    "In this exercise, you'll explore the handshake protocol used by dial-up modems."
   ]
  },
  {
   "cell_type": "markdown",
   "id": "9a46c0c6-3323-469d-b380-d3eae2a6e182",
   "metadata": {},
   "source": [
    "Start by watching [this video](https://www.youtube.com/watch?v=abapFJN6glo&ab_channel=bialasiczek).\n",
    "\n",
    "You can try to read the tiny text if you want to get a sense of what's happening."
   ]
  },
  {
   "cell_type": "markdown",
   "id": "183edb83-ec27-47fe-8f8b-9d53f78c29b4",
   "metadata": {},
   "source": [
    "Now watch [this video](https://www.youtube.com/watch?v=xp47x1EabqI&ab_channel=TheSacredGamer) and answer the questions below."
   ]
  },
  {
   "cell_type": "markdown",
   "id": "7dea54d9-053c-4508-b6e8-924d9b30a5e8",
   "metadata": {},
   "source": [
    "At ~1:30, a series of tone pairs are shown.\n",
    "Read [this article](https://en.wikipedia.org/wiki/DTMF),\n",
    "paying special attention to the Keypad section.\n",
    "\n",
    "**Explain what is being shown on the spectrogram.**"
   ]
  },
  {
   "cell_type": "markdown",
   "id": "5c3e38cb-1d33-4bf4-9e2d-271e3c162931",
   "metadata": {},
   "source": [
    "The spectrogram is showing the various frequencies along the y-axis as time moves along the x-axis."
   ]
  },
  {
   "cell_type": "markdown",
   "id": "a55e5d53-f624-4d40-8e67-21de7c6ad62f",
   "metadata": {},
   "source": [
    "**Briefly explain what FSK modulation is, and why it looks the way it does in the spectrogram at ~3:30.**"
   ]
  },
  {
   "cell_type": "markdown",
   "id": "09dc3c21-aeda-4c29-a4a0-797f1cd5e084",
   "metadata": {},
   "source": [
    "Frequency key modulation is a way to transmit digital data by changing the frequency of a carrier wave. Different frequencies represent different binary values. \n",
    "\n",
    "As noted in the video, the low frequencies represent a 0 and the high frequencies represent a 1. So, the spectrogram is showing the changing binary bits when the frequency jumps around."
   ]
  },
  {
   "cell_type": "markdown",
   "id": "ade9404f-1854-4dc6-a8c4-ea37ed3e1698",
   "metadata": {},
   "source": [
    "**At 4:32, the arrow points to a modulated signal.  What modulation do you think is being used?  Why?**"
   ]
  },
  {
   "cell_type": "markdown",
   "id": "cd4ade52-2031-4391-b300-fb6398b48c2b",
   "metadata": {},
   "source": [
    "I would have to guess that this is also using FSK, since it needs to relay specific information such as the standards that it's using. Therefore, being able to communicate 0s and 1s would be very helpful in this scenario."
   ]
  },
  {
   "cell_type": "markdown",
   "id": "af424ce8-36b2-45de-b411-e5ed11c35278",
   "metadata": {},
   "source": [
    "Now watch [this video](https://www.youtube.com/watch?v=vvr9AMWEU-c&ab_channel=ScottyH),\n",
    "which shows a \"falling raster\" display of the modem handshake."
   ]
  },
  {
   "cell_type": "markdown",
   "id": "396f1e14-a097-4ddb-a36d-79728da11cd6",
   "metadata": {},
   "source": [
    "**What did you think of this week's videos/exercises?**"
   ]
  },
  {
   "cell_type": "markdown",
   "id": "71145f87-33a9-4997-bfc3-7a88be67de06",
   "metadata": {},
   "source": [
    "Good! Definitely challenged me to think about what is happening."
   ]
  },
  {
   "cell_type": "code",
   "execution_count": null,
   "id": "cd4f98a2-bc88-4dad-ab90-eb5a971d0c50",
   "metadata": {},
   "outputs": [],
   "source": []
  }
 ],
 "metadata": {
  "kernelspec": {
   "display_name": "Python 3 (ipykernel)",
   "language": "python",
   "name": "python3"
  },
  "language_info": {
   "codemirror_mode": {
    "name": "ipython",
    "version": 3
   },
   "file_extension": ".py",
   "mimetype": "text/x-python",
   "name": "python",
   "nbconvert_exporter": "python",
   "pygments_lexer": "ipython3",
   "version": "3.10.13"
  }
 },
 "nbformat": 4,
 "nbformat_minor": 5
}

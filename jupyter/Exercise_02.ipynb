{
 "cells": [
  {
   "cell_type": "markdown",
   "id": "64a8eac6-c2ac-406f-963b-096cce9abfb0",
   "metadata": {},
   "source": [
    "# Exercise 02: Spectrograms\n",
    "\n",
    "In this exercise, you will explore how the spectrum of a signal evolves over time.\n",
    "\n",
    "Watch [this video](https://www.youtube.com/watch?v=EfWnEldTyPA&ab_channel=SteveBrunton) and answer the questions below."
   ]
  },
  {
   "cell_type": "markdown",
   "id": "6f630eaf-2158-4aa5-810d-8309c8c7bcd9",
   "metadata": {},
   "source": [
    "**What are the tradeoffs between the time domain (waveform) and frequency domain (Fourier transform) representations of a signal?**"
   ]
  },
  {
   "cell_type": "markdown",
   "id": "a10068ca-3862-46e4-9b53-6d0adb9071c8",
   "metadata": {},
   "source": [
    "In time domain you have precision info about where in time you are but you don't know what the frequency is at that instance in time. In freq domain, you have information about what frequencies occurred, but you don't know when they occurred."
   ]
  },
  {
   "cell_type": "markdown",
   "id": "db72083a-6466-4526-819f-f0c519e9fb10",
   "metadata": {},
   "source": [
    "**What kind of signal is ideal for Fourier transforms?**"
   ]
  },
  {
   "cell_type": "markdown",
   "id": "d719d419-91fc-4705-8b1d-2a333ad72b1a",
   "metadata": {},
   "source": [
    "Signals that are perfectly periodic."
   ]
  },
  {
   "cell_type": "markdown",
   "id": "7b6a0176-1e47-49ff-9073-7b71c8aadd5c",
   "metadata": {},
   "source": [
    "**Why is the time waveform multiplied by a window?**"
   ]
  },
  {
   "cell_type": "markdown",
   "id": "96eb7ba4-2a9c-4b6f-a7b6-3c7d14775df3",
   "metadata": {},
   "source": [
    "So as the signal evolves in time, you can see the different frequencies that are occurring."
   ]
  },
  {
   "cell_type": "markdown",
   "id": "a4812fa8-2fba-4115-89df-c4943d5c2dd4",
   "metadata": {},
   "source": [
    "**What controls the time vs frequency resolution tradeoff in the spectrogram?**"
   ]
  },
  {
   "cell_type": "markdown",
   "id": "176e7dae-0a0d-4dbd-9535-b3c4f968e8e0",
   "metadata": {},
   "source": [
    "The width of the window."
   ]
  },
  {
   "cell_type": "markdown",
   "id": "187d8848-9d35-4352-8c30-bfd9b02b8422",
   "metadata": {},
   "source": [
    "**How does [Shazam](https://www.shazam.com/) identify songs?**"
   ]
  },
  {
   "cell_type": "markdown",
   "id": "372eb952-9db4-485e-af26-bf11e3abf029",
   "metadata": {},
   "source": [
    "It finds peaks in the power spectrum and tries to match the sparse template of peaks to a vast library of songs. It also has to consider whether a song on the radio may be sped up or slowed down."
   ]
  },
  {
   "cell_type": "markdown",
   "id": "1676fbb3-da96-416a-a804-49e305d0016c",
   "metadata": {},
   "source": [
    "Now watch [this video](https://www.youtube.com/watch?v=2mB74QhDznI&ab_channel=SteveBrunton) and answer the questions below."
   ]
  },
  {
   "cell_type": "markdown",
   "id": "69ed1258-d19b-448c-ac54-a385b7511d16",
   "metadata": {},
   "source": [
    "**What's the difference between a tone and a chirp?**"
   ]
  },
  {
   "cell_type": "markdown",
   "id": "faa97fec-4d10-4be2-93ff-25b2ec12cd91",
   "metadata": {},
   "source": [
    "A tone has a steady frequency while a chirp has increasing or decreasing frequency with time."
   ]
  },
  {
   "cell_type": "markdown",
   "id": "facfd6fb-8dfd-469d-84d0-eb914952128f",
   "metadata": {},
   "source": [
    "At about 3:40, it is claimed that the red artifacts are very small compared to the blue chirp signal.\n",
    "\n",
    "**How much smaller are those red artifacts (a) in dB? (b) on a linear scale?**  Show your calculations."
   ]
  },
  {
   "cell_type": "markdown",
   "id": "4fc492ba-3c96-4549-8050-dabc171e514d",
   "metadata": {},
   "source": [
    "YOUR ANSWER HERE"
   ]
  },
  {
   "cell_type": "markdown",
   "id": "fc5b77e6-0f95-41c0-acfa-9224d324c672",
   "metadata": {},
   "source": [
    "**What's a cumulative distribution?**"
   ]
  },
  {
   "cell_type": "markdown",
   "id": "110efee0-6543-4518-beed-28cb68495ee8",
   "metadata": {},
   "source": [
    "A CDF is a probability function that describes the probability that a random variable X will take a value less than or equal to a specific value x."
   ]
  },
  {
   "cell_type": "markdown",
   "id": "5b9e7529-e3b0-4347-b9d0-49c079e2400e",
   "metadata": {},
   "source": [
    "**Is Steve Brunton left- or right-handed?**"
   ]
  },
  {
   "cell_type": "markdown",
   "id": "7867e8ff-b34a-4169-826e-7bdaa89043fa",
   "metadata": {},
   "source": [
    "His setup is like witchcraft to me and I have no idea how he writes backwards but I think he's right-handed."
   ]
  },
  {
   "cell_type": "code",
   "execution_count": null,
   "id": "22101522-f471-439d-b216-e320397f38b5",
   "metadata": {},
   "outputs": [],
   "source": []
  }
 ],
 "metadata": {
  "kernelspec": {
   "display_name": "Python 3 (ipykernel)",
   "language": "python",
   "name": "python3"
  },
  "language_info": {
   "codemirror_mode": {
    "name": "ipython",
    "version": 3
   },
   "file_extension": ".py",
   "mimetype": "text/x-python",
   "name": "python",
   "nbconvert_exporter": "python",
   "pygments_lexer": "ipython3",
   "version": "3.10.13"
  }
 },
 "nbformat": 4,
 "nbformat_minor": 5
}

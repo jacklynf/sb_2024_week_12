{
 "cells": [
  {
   "cell_type": "markdown",
   "id": "6509e33f-729b-4ed0-a674-3498c0f63a5a",
   "metadata": {},
   "source": [
    "# Exercise 01: JPEG Compression\n",
    "\n",
    "In this exercise, you will explore some of the technical details of JPEG compression."
   ]
  },
  {
   "cell_type": "markdown",
   "id": "f41c95ba-8fdb-4f8c-8686-fc189ac81375",
   "metadata": {},
   "source": [
    "Watch [this video](https://www.youtube.com/watch?v=0me3guauqOU&ab_channel=Reducible) on JPEG\n",
    "and answer the questions below."
   ]
  },
  {
   "cell_type": "markdown",
   "id": "c2a47331-9849-496b-b300-d92cdd104886",
   "metadata": {},
   "source": [
    "At ~2:09, the video claims the uncompressed image takes approximately 15MB of storage.\n",
    "\n",
    "**What does MB stand for?  What does Mb stand for?**"
   ]
  },
  {
   "cell_type": "markdown",
   "id": "f8659c33-8de4-4e56-ac8c-198074b89590",
   "metadata": {},
   "source": [
    "MB = megabyte, Mb = megabit"
   ]
  },
  {
   "cell_type": "markdown",
   "id": "a4c3c0ae-c1e9-40de-8b88-d2c9cbd1d36c",
   "metadata": {},
   "source": [
    "**Show the calculations involved to determine the storage needed for the image.  Was the video correct in its estimate?**"
   ]
  },
  {
   "cell_type": "markdown",
   "id": "1323785c-c4f7-4fc3-868f-a6546fd55e7b",
   "metadata": {},
   "source": [
    "5 million pixels * 3 bytes per pixel (1 red, 1 green, 1 blue) = 15MB, however, following the compression, the image only requires about 5% of that."
   ]
  },
  {
   "cell_type": "markdown",
   "id": "7d594d1f-894d-45f2-99c7-8d9ba68e5c88",
   "metadata": {},
   "source": [
    "**Is JPEG lossy or lossless?  What does this mean?**"
   ]
  },
  {
   "cell_type": "markdown",
   "id": "a1e79ce2-b195-49bd-bec5-dd400247698f",
   "metadata": {},
   "source": [
    "JPEG is a lossy compression, meaning some data is lost in the compression process but the tradeoff is that the file size is reduced significantly."
   ]
  },
  {
   "cell_type": "markdown",
   "id": "6b12efbd-5627-48ae-b187-e75e6ab5a0de",
   "metadata": {},
   "source": [
    "**Why does it make sense for JPEG to do chroma subsampling?  Can you think of any applications where this might not be appropriate/optimal?**"
   ]
  },
  {
   "cell_type": "markdown",
   "id": "4b64de82-6650-4f71-b846-687470d0a388",
   "metadata": {},
   "source": [
    "It makes sense because, as the video says, our eyes are more perceptive to variation in brightness than color, so this method allows compression without a noticeable loss in visual quality. Applications where this may not be optimal or appropriate might be satellite imaging or medical imaging, where the color data provides vital information. "
   ]
  },
  {
   "cell_type": "markdown",
   "id": "6742f877-2153-4337-95ae-ddc8326680e2",
   "metadata": {},
   "source": [
    "**Why is it reasonable to believe that images can be compressed at all?**"
   ]
  },
  {
   "cell_type": "markdown",
   "id": "05548609-fc53-4bf6-80c4-7806dba1e303",
   "metadata": {},
   "source": [
    "As I noted above, the human eye is less perceptive to color changes than brightness changes, so we can exploit this in the compression process."
   ]
  },
  {
   "cell_type": "markdown",
   "id": "231633d8-9f1f-4304-94f9-9b268a66a09d",
   "metadata": {},
   "source": [
    "At ~14:23, the video discusses shifting pixel value ranges.\n",
    "\n",
    "**Where have you seen these ranges before?  What underlying representation for the pixel values does this suggest?**"
   ]
  },
  {
   "cell_type": "markdown",
   "id": "9e9dd703-41dd-4435-880b-b95d73cf7b3e",
   "metadata": {},
   "source": [
    "-128 to +127 is the range for a 8-bit signed integer (with the MSB being the sign bit). This suggests that the underlying representation is 2's complement."
   ]
  },
  {
   "cell_type": "markdown",
   "id": "b5090f06-9ec9-48a5-b5a0-5fef5dac7cf4",
   "metadata": {},
   "source": [
    "**Why does the 0th frequency in the DCT cause the other frequencies to shift up/down?**"
   ]
  },
  {
   "cell_type": "markdown",
   "id": "f850e9ae-56d9-4f98-89ed-a8f3b9eb15a3",
   "metadata": {},
   "source": [
    "The 0th frequency is a constant signal and gives a measure of the overall brightness of a set of pixels. Shifting this up or down means that the overall brightness of the other 7 frequencies will be altered, as well."
   ]
  },
  {
   "cell_type": "markdown",
   "id": "185ab413-bb80-4a76-a9da-ca885ea32438",
   "metadata": {},
   "source": [
    "At ~20:20, it is stated that the rows of the cosine matrix are orthogonal to each other.\n",
    "\n",
    "**This means that the rows of the matrix form a what?**  (Think back to SVD.)"
   ]
  },
  {
   "cell_type": "markdown",
   "id": "826d1c8d-d22d-4e8e-9ad8-35c03b9b66e5",
   "metadata": {},
   "source": [
    "An orthonormal basis."
   ]
  },
  {
   "cell_type": "markdown",
   "id": "5af6ec1c-f605-43bd-8ad4-c363641d5136",
   "metadata": {},
   "source": [
    "If a square matrix is an orthonormal basis, it is non-singular.\n",
    "\n",
    "**If a matrix is non-singular, what does it mean about the linear transformation represented by the matrix?**"
   ]
  },
  {
   "cell_type": "markdown",
   "id": "bfcd3b8f-6c3c-4790-a963-64b7b1a595f8",
   "metadata": {},
   "source": [
    "This means that the linear transofmration it represents is invertible."
   ]
  },
  {
   "cell_type": "markdown",
   "id": "c0629d2d-303a-4bda-89b4-33831761d018",
   "metadata": {},
   "source": [
    "**How many orthogonal patterns does it take to decompose an 8x8 image?  Why?**"
   ]
  },
  {
   "cell_type": "markdown",
   "id": "688cca89-7012-4d3c-9ecb-15ec91af958c",
   "metadata": {},
   "source": [
    "It takes 64 orthogonal patterns because the image is in a 64-dimensional space."
   ]
  },
  {
   "cell_type": "markdown",
   "id": "97fecd1e-0427-45de-a8d7-8c0e35416563",
   "metadata": {},
   "source": [
    "At ~24:05, there is a graphic with a slider.\n",
    "\n",
    "**Explain what is being shown here.  Where have you seen this concept before?**"
   ]
  },
  {
   "cell_type": "markdown",
   "id": "0b8bdd66-3e26-4b7d-b56f-a8d3918ab0a0",
   "metadata": {},
   "source": [
    "The video is showing an increasing number of DCT coefficients being introduced into the signal which modifies the image that the signal represents. After a certain number of coefficients are introduced, adding additional coefficients makes the changes in the image less noticeable. We saw this with the handwritten digits; although 64 dimensions were needed to fully represent the digits, after introducing a smaller number of dimensions (I think it might've been something like 10 or so), the images were roughly as clear we needed them to be for accurate classification."
   ]
  },
  {
   "cell_type": "markdown",
   "id": "5ef3f916-39e6-423e-bb30-569baa154253",
   "metadata": {},
   "source": [
    "**What is \"energy compaction\"?**"
   ]
  },
  {
   "cell_type": "markdown",
   "id": "dadfc230-3b5c-45dd-8755-2079e296bf33",
   "metadata": {},
   "source": [
    "After applying the DCT, most of the largest values are concentrated in a few low-frequency coefficients. This is important in image compression as it allows us to agressively compress images while still retaining high image quality"
   ]
  },
  {
   "cell_type": "markdown",
   "id": "a29c28d5-c183-4d60-9d1d-34f880cdfc2a",
   "metadata": {},
   "source": [
    "**For an 8x8 DCT, where will the coefficients with the largest amplitudes be found?**"
   ]
  },
  {
   "cell_type": "markdown",
   "id": "48621ac8-6dd2-4d18-8d94-b62620139f1f",
   "metadata": {},
   "source": [
    "In the upper left corner."
   ]
  },
  {
   "cell_type": "markdown",
   "id": "c6c24369-c425-401a-ac34-ae11c0ceb609",
   "metadata": {},
   "source": [
    "**How does JPEG order DCT coefficients?  Why?**"
   ]
  },
  {
   "cell_type": "markdown",
   "id": "3c71a02f-8dc2-4f9a-909f-de9b4816c7f9",
   "metadata": {},
   "source": [
    "It orders them in a zig-zag manner to maximize the chance of a large sequence of zeros in order. This makes compression easier."
   ]
  },
  {
   "cell_type": "code",
   "execution_count": null,
   "id": "6173bbb8-d1f0-47ca-9f23-8d0cfb1f725c",
   "metadata": {},
   "outputs": [],
   "source": []
  }
 ],
 "metadata": {
  "kernelspec": {
   "display_name": "Python 3 (ipykernel)",
   "language": "python",
   "name": "python3"
  },
  "language_info": {
   "codemirror_mode": {
    "name": "ipython",
    "version": 3
   },
   "file_extension": ".py",
   "mimetype": "text/x-python",
   "name": "python",
   "nbconvert_exporter": "python",
   "pygments_lexer": "ipython3",
   "version": "3.10.13"
  }
 },
 "nbformat": 4,
 "nbformat_minor": 5
}
